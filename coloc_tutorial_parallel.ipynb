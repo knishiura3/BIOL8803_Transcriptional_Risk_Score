{
 "cells": [
  {
   "cell_type": "code",
   "execution_count": 1,
   "metadata": {
    "vscode": {
     "languageId": "r"
    }
   },
   "outputs": [],
   "source": [
    "# install.packages('languageserver', dependencies = TRUE)\n",
    "# install.packages('devtools', dependencies = TRUE)\n",
    "# devtools::install_github('IRkernel/IRkernel',dependencies = TRUE)\n",
    "# IRkernel::installspec()\n",
    "# devtools::install_github(\"mrcieu/gwasglue\")\n",
    "# install_github(\"jrs95/gassocplot\",dependencies=TRUE,upgrade=\"always\")"
   ]
  },
  {
   "cell_type": "code",
   "execution_count": 2,
   "metadata": {
    "vscode": {
     "languageId": "r"
    }
   },
   "outputs": [
    {
     "name": "stderr",
     "output_type": "stream",
     "text": [
      "API: public: http://gwas-api.mrcieu.ac.uk/\n",
      "\n"
     ]
    }
   ],
   "source": [
    "suppressPackageStartupMessages(suppressWarnings({\n",
    "    library(gwasglue)\n",
    "    library(dplyr)\n",
    "    library(gassocplot)\n",
    "    library(coloc)\n",
    "    library(ggplot2)\n",
    "    library(foreach)\n",
    "    library(doParallel)\n",
    "}))\n",
    "# identify maximum cores available\n",
    "# ncpus <- detectCores()\n",
    "\n",
    "# sets how many cores to use\n",
    "# 2 cores took ~6 min to write gwas hits to file\n",
    "# 4 cores took ~3 min to write gwas hits to file\n",
    "registerDoParallel(4)\n"
   ]
  },
  {
   "cell_type": "code",
   "execution_count": 3,
   "metadata": {
    "vscode": {
     "languageId": "r"
    }
   },
   "outputs": [
    {
     "data": {
      "text/html": [
       "<table class=\"dataframe\">\n",
       "<caption>A GwasInfo: 1 × 17</caption>\n",
       "<thead>\n",
       "\t<tr><th scope=col>id</th><th scope=col>trait</th><th scope=col>ontology</th><th scope=col>unit</th><th scope=col>sample_size</th><th scope=col>author</th><th scope=col>build</th><th scope=col>mr</th><th scope=col>category</th><th scope=col>subcategory</th><th scope=col>group_name</th><th scope=col>year</th><th scope=col>priority</th><th scope=col>population</th><th scope=col>consortium</th><th scope=col>sex</th><th scope=col>note</th></tr>\n",
       "\t<tr><th scope=col>&lt;chr&gt;</th><th scope=col>&lt;chr&gt;</th><th scope=col>&lt;lgl&gt;</th><th scope=col>&lt;lgl&gt;</th><th scope=col>&lt;int&gt;</th><th scope=col>&lt;chr&gt;</th><th scope=col>&lt;chr&gt;</th><th scope=col>&lt;int&gt;</th><th scope=col>&lt;chr&gt;</th><th scope=col>&lt;chr&gt;</th><th scope=col>&lt;chr&gt;</th><th scope=col>&lt;int&gt;</th><th scope=col>&lt;int&gt;</th><th scope=col>&lt;chr&gt;</th><th scope=col>&lt;chr&gt;</th><th scope=col>&lt;chr&gt;</th><th scope=col>&lt;lgl&gt;</th></tr>\n",
       "</thead>\n",
       "<tbody>\n",
       "\t<tr><td>ieu-b-30</td><td>white blood cell count</td><td>NA</td><td>NA</td><td>563946</td><td>Vuckovic, D</td><td>HG19/GRCh37</td><td>1</td><td>Continuous</td><td>Immune system</td><td>public</td><td>2020</td><td>0</td><td>European</td><td>Blood Cell Consortium</td><td>Males and Females</td><td>NA</td></tr>\n",
       "</tbody>\n",
       "</table>\n"
      ],
      "text/latex": [
       "A GwasInfo: 1 × 17\n",
       "\\begin{tabular}{lllllllllllllllll}\n",
       " id & trait & ontology & unit & sample\\_size & author & build & mr & category & subcategory & group\\_name & year & priority & population & consortium & sex & note\\\\\n",
       " <chr> & <chr> & <lgl> & <lgl> & <int> & <chr> & <chr> & <int> & <chr> & <chr> & <chr> & <int> & <int> & <chr> & <chr> & <chr> & <lgl>\\\\\n",
       "\\hline\n",
       "\t ieu-b-30 & white blood cell count & NA & NA & 563946 & Vuckovic, D & HG19/GRCh37 & 1 & Continuous & Immune system & public & 2020 & 0 & European & Blood Cell Consortium & Males and Females & NA\\\\\n",
       "\\end{tabular}\n"
      ],
      "text/markdown": [
       "\n",
       "A GwasInfo: 1 × 17\n",
       "\n",
       "| id &lt;chr&gt; | trait &lt;chr&gt; | ontology &lt;lgl&gt; | unit &lt;lgl&gt; | sample_size &lt;int&gt; | author &lt;chr&gt; | build &lt;chr&gt; | mr &lt;int&gt; | category &lt;chr&gt; | subcategory &lt;chr&gt; | group_name &lt;chr&gt; | year &lt;int&gt; | priority &lt;int&gt; | population &lt;chr&gt; | consortium &lt;chr&gt; | sex &lt;chr&gt; | note &lt;lgl&gt; |\n",
       "|---|---|---|---|---|---|---|---|---|---|---|---|---|---|---|---|---|\n",
       "| ieu-b-30 | white blood cell count | NA | NA | 563946 | Vuckovic, D | HG19/GRCh37 | 1 | Continuous | Immune system | public | 2020 | 0 | European | Blood Cell Consortium | Males and Females | NA |\n",
       "\n"
      ],
      "text/plain": [
       "  id       trait                  ontology unit sample_size author     \n",
       "1 ieu-b-30 white blood cell count NA       NA   563946      Vuckovic, D\n",
       "  build       mr category   subcategory   group_name year priority population\n",
       "1 HG19/GRCh37 1  Continuous Immune system public     2020 0        European  \n",
       "  consortium            sex               note\n",
       "1 Blood Cell Consortium Males and Females NA  "
      ]
     },
     "metadata": {},
     "output_type": "display_data"
    }
   ],
   "source": [
    "# wbc count related to autoimmune disease\n",
    "gwas_dataset = \"ieu-b-30\"\n",
    "dummy_dataset = \"ieu-a-7\"\n",
    "gwasinfo(id=as.character(gwas_dataset))\n",
    "# gwasinfo(id=as.character(dummy_dataset))"
   ]
  },
  {
   "cell_type": "code",
   "execution_count": 4,
   "metadata": {
    "vscode": {
     "languageId": "r"
    }
   },
   "outputs": [],
   "source": [
    "# identify top GWAS hits and sort by p-value order (lowest to highest)\n",
    "top <- ieugwasr::tophits('ieu-b-30') %>% arrange(p)\n",
    "# str(top)"
   ]
  },
  {
   "cell_type": "code",
   "execution_count": 10,
   "metadata": {
    "vscode": {
     "languageId": "r"
    }
   },
   "outputs": [],
   "source": [
    "window_size <- 50000\n",
    "if (!dir.exists(\"gwas_hits\")) {\n",
    "    dir.create(\"gwas_hits\")\n",
    "}\n",
    "\n",
    "# parallel loop over the top GWAS hits in p-value order and iterate over rows using normal for loop\n",
    "foreach(i = 1:nrow(top)) %dopar% {\n",
    "    # str(top[i,])\n",
    "    # add leading 0s to pval_rank_gwashit so that it always has 3 digits\n",
    "    pval_rank_gwashit <- sprintf(\"%03d\", i)\n",
    "    chr_gwashit <- top[i, ]$chr\n",
    "    pos_gwashit <- top[i, ]$position\n",
    "    \n",
    "    # print(paste0(\"Processing GWAS hit \", pval_rank_gwashit, \" of \", nrow(top)))\n",
    "\n",
    "    lower <- pos_gwashit - window_size\n",
    "    upper <- pos_gwashit + window_size\n",
    "    # print(paste(pval_rank_gwashit,\" \",chr_gwashit,\" \",lower,\" \",upper))\n",
    "    chrpos <- paste0(chr_gwashit, \":\", lower, \"-\", upper)\n",
    "    # print(chrpos)\n",
    "    \n",
    "    # extract SNPS in the region of top hit\n",
    "    out <- ieugwasr_to_coloc(\n",
    "        id1 = as.character(gwas_dataset),\n",
    "        id2 = as.character(dummy_dataset),\n",
    "        chrompos = as.character(chrpos),\n",
    "        type1 = \"quant\",\n",
    "        # type2 = \"cc\"\n",
    "    )\n",
    "\n",
    "    # get rid of dummy dataset\n",
    "    out <- out[1]\n",
    "    # str(out)\n",
    "\n",
    "    # export to file (tab-delimited) in directory named gwas_hits in the following format:\n",
    "    # <pval rank>_<chr>_<lower bound>_<upper bound>.tsv\n",
    "    write.table(out,\n",
    "        file = paste0(\n",
    "            \"gwas_hits/\", pval_rank_gwashit, \"_\", chr_gwashit, \"_\", lower, \"_\", upper, \"_gwas.tsv\"\n",
    "        ),\n",
    "        sep = \"\\t\", quote = FALSE, row.names = FALSE, col.names = FALSE\n",
    "    )\n",
    "}"
   ]
  },
  {
   "cell_type": "code",
   "execution_count": null,
   "metadata": {
    "vscode": {
     "languageId": "r"
    }
   },
   "outputs": [],
   "source": [
    "# python3 eqtl_build_db.py\n",
    "# python3 eqtl_query_db.py"
   ]
  },
  {
   "cell_type": "code",
   "execution_count": null,
   "metadata": {
    "vscode": {
     "languageId": "r"
    }
   },
   "outputs": [],
   "source": [
    "# get list of files in output_fdr directory\n",
    "files <- list.files(path = \"output\", pattern = \".*.tsv\", full.names = TRUE)\n",
    "\n",
    "# truncate filelist to first pair of files\n",
    "# files <- files[1:4]\n",
    "# files\n",
    "\n",
    "# This may need to be modified so it's not just taking file names in alphabetical order, but in descending pval order.\n",
    "for (i in seq(1, length(files), 2)) {\n",
    "    print(paste(\"starting\",i,files[i],files[i+1]))\n",
    "\n",
    "    # read in files\n",
    "    eqtl <- as.list(read.table(file=files[i], header = TRUE, sep = '\\t'))\n",
    "    gwas <- as.list(read.table(file=files[i+1], header = TRUE, sep = '\\t'))\n",
    "    \n",
    "    # run coloc and write the output to a log file\n",
    "    res <- coloc::coloc.abf(gwas, eqtl) \n",
    "    \n",
    "    # # make a directory named output_coloc if it doesn't exist\n",
    "    dir.exists(\"output_coloc\") || dir.create(\"output_coloc\")\n",
    "\n",
    "    # print numeric value of element of res$summary named PP.H4.abf and filename without extension and without _eQTLS\n",
    "    # str(res)\n",
    "    # print(as.numeric(res$summary[\"PP.H4.abf\"]))\n",
    "    #  remove file extension from files[i] and store in a variable\n",
    "    SNP_locus_name <- basename(files[i])\n",
    "    SNP_locus_name <- sub(\"_eQTLs\\\\..*$\", \"\", SNP_locus_name)\n",
    "    SNP_locus_name <- sub(\"^region_\", \"\", SNP_locus_name)\n",
    "    \n",
    "    # write output to a log file, tab-separated\n",
    "    write.table(paste(SNP_locus_name,as.numeric(res$summary[\"PP.H1.abf\"]),as.numeric(res$summary[\"PP.H2.abf\"]),as.numeric(res$summary[\"PP.H3.abf\"]),as.numeric(res$summary[\"PP.H4.abf\"])), file = paste0(\"output_coloc/\", \"PP.H1-4.abf.tsv\"), sep = \"\\t\", quote=FALSE, row.names = FALSE, col.names = FALSE, append = TRUE)\n",
    "    \n",
    "\n",
    "    # print(paste(\"eQTL path: \", files[i]))\n",
    "    # print(paste(\"GWAS path: \", files[i+1]))\n",
    "    # create a new list where eqtl and gwas are its elements\n",
    "    out <- list(eqtl, gwas)\n",
    "\n",
    "    print(paste(\"ending\",i,files[i],files[i+1]))\n",
    "}"
   ]
  },
  {
   "cell_type": "code",
   "execution_count": null,
   "metadata": {
    "vscode": {
     "languageId": "r"
    }
   },
   "outputs": [],
   "source": [
    "# asr::tophits('ieu-a-300') %>% arrange(p)   \n",
    "# top \n",
    "# chrpos <- paste0(top$chr[1], \":\", top$position[1] - 90000, \"-\", top$position[1] + 90000)\n",
    "# out <- ieugwasr_to_coloc(id1='ieu-a-300', id2='ieu-a-7', chrompos=chrpos)\n",
    "# res <- coloc::coloc.abf(out[[1]], out[[2]])\n",
    "# temp <- coloc_to_gassocplot(out)\n",
    "# gassocplot::stack_assoc_plot(temp$markers, temp$z, temp$corr, traits=temp$traits)\n",
    "\n",
    "# download.file(\"https://gwas.mrcieu.ac.uk/files/ieu-a-300/ieu-a-300.vcf.gz\",\"ieu-a-300.vcf.gz\")\n",
    "# download.file(\"https://gwas.mrcieu.ac.uk/files/ieu-a-300/ieu-a-300.vcf.gz.tbi\",\"ieu-a-300.vcf.gz.tbi\")\n",
    "# download.file(\"https://gwas.mrcieu.ac.uk/files/ieu-a-7/ieu-a-7.vcf.gz\",\"ieu-a-7.vcf.gz\")\n",
    "# download.file(\"https://gwas.mrcieu.ac.uk/files/ieu-a-7/ieu-a-7.vcf.gz.tbi\",\"ieu-a-7.vcf.gz.tbi\")\n",
    "\n",
    "# chrpos <- \"19:11112306-11292306\"\n",
    "# vout <- gwasvcf_to_coloc(\"ieu-a-300.vcf.gz\", \"ieu-a-7.vcf.gz\", chrpos)\n",
    "# vres <- coloc::coloc.abf(vout[[1]], vout[[2]])\n",
    "\n",
    "# library(gassocplot)\n",
    "# temp <- coloc_to_gassocplot(vout)\n",
    "# gassocplot::stack_assoc_plot(temp$markers, temp$z, temp$corr, traits=temp$traits)"
   ]
  }
 ],
 "metadata": {
  "kernelspec": {
   "display_name": "R",
   "language": "R",
   "name": "ir"
  },
  "language_info": {
   "codemirror_mode": "r",
   "file_extension": ".r",
   "mimetype": "text/x-r-source",
   "name": "R",
   "pygments_lexer": "r",
   "version": "4.1.3"
  },
  "orig_nbformat": 4,
  "vscode": {
   "interpreter": {
    "hash": "33309740f55d517095fb4fcb9d4d8a63caa85d55bce2c4e507a102f64df5be1e"
   }
  }
 },
 "nbformat": 4,
 "nbformat_minor": 2
}
